{
 "cells": [
  {
   "cell_type": "markdown",
   "metadata": {},
   "source": [
    "# Variables Naming\n",
    "\n",
    "-lower_case\n",
    "-snake_typing(we will use \"_\" between words)\n",
    "-logic words for variables, each word after a \"_\" gives a deeper level of detail about the\n",
    "variable (\"level1_level2_level3\")\n",
    "-aim for maximum of 2 words per variable.\n",
    "\n",
    "\n",
    "# Function Naming\n",
    "\n",
    "-lower_case\n",
    "-snake_typing(we will use \"_\" between words)\n",
    "-verb + noun structure (\"filter_animals\")\n",
    "-aim to have high granularity of functions (if a function can be divided in two, then it should be 2 functions)\n",
    "-to build a function have a clear knowlodge of the arguments you have available, and what we\n",
    "expect to return.\n",
    "-always comment the purpose and basic function of every function we make. if there is a nested\n",
    "function inside, comment with a quick recap of this second function as well.\n",
    "-inputs from users should be implemented by defining functions, this way we can add restrains\n",
    "and control what data type we get.\n",
    "\n",
    "# Libraries\n",
    "\n",
    "-import in the first cell of the notebook (separated from other cells)\n",
    "\n",
    "-Pandas\n",
    "-Numpy\n",
    "-BeautifulSoup\n",
    "-request\n",
    "-re(regex)\n",
    "-matplotlib\n",
    "\n",
    "\n",
    "# Community conventions.\n",
    "\n",
    "-Plan the project before beginning.(trello or to-do-list)\n",
    "\n",
    "-standup meetings with teammates at the beggining and end of the day, helps to prioritize and spend time more efficiently on the important barriers for the team. (assign responsible\n",
    "for each task)\n",
    "-dont overwrite keywords from python(class for example)\n",
    "-follow PEP 8[https://www.python.org/dev/peps/pep-0008/]\n",
    "\n",
    "\n",
    "# Other (git, ...)\n",
    "\n",
    "-when interacting with API, do it as one of the first cells and avoid running it again.(takes time and might exhaust API access limit)\n",
    "-data analysts work on different files initially(different tasks/responsabilities)\n",
    "-file names with the name of the data analyst to differentiate during the project (to be normalized at the final version)\n",
    "-whenever interacting with a new API read the basic documentation.\n",
    "-frequent #GIT commits/push (at least once a day, in the afternoon, before the standup meeting) \n",
    "-GIT SEQUENCE -> CLONE-WORK-ADD-COMMIT-PULL-PUSH"
   ]
  },
  {
   "cell_type": "code",
   "execution_count": null,
   "metadata": {},
   "outputs": [],
   "source": []
  }
 ],
 "metadata": {
  "kernelspec": {
   "display_name": "Python 3",
   "language": "python",
   "name": "python3"
  },
  "language_info": {
   "codemirror_mode": {
    "name": "ipython",
    "version": 3
   },
   "file_extension": ".py",
   "mimetype": "text/x-python",
   "name": "python",
   "nbconvert_exporter": "python",
   "pygments_lexer": "ipython3",
   "version": "3.7.6"
  }
 },
 "nbformat": 4,
 "nbformat_minor": 4
}
